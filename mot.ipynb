{
 "cells": [
  {
   "cell_type": "code",
   "execution_count": 19,
   "metadata": {},
   "outputs": [],
   "source": [
    "import matplotlib.pyplot as plt\n",
    "import seaborn as sns\n",
    "import polars as pl\n",
    "import numpy as np\n",
    "from numpy.typing import NDArray\n",
    "from typing import Sequence, Any, Tuple, Union, List, Dict, Optional, TypeVar, Callable, Iterable, cast\n",
    "from datetime import datetime, timedelta"
   ]
  },
  {
   "cell_type": "code",
   "execution_count": 2,
   "metadata": {},
   "outputs": [],
   "source": [
    "from stonesoup.models.transition.linear import CombinedLinearGaussianTransitionModel, \\\n",
    "                                               ConstantVelocity\n",
    "from stonesoup.types.groundtruth import GroundTruthPath, GroundTruthState\n",
    "from stonesoup.types.detection import TrueDetection\n",
    "from stonesoup.types.detection import Clutter\n",
    "from stonesoup.models.measurement.linear import LinearGaussian\n",
    "from stonesoup.types.detection import Detection\n",
    "from stonesoup.plotter import AnimatedPlotterly\n",
    "from stonesoup.predictor.kalman import KalmanPredictor\n",
    "from stonesoup.updater.kalman import KalmanUpdater\n",
    "from stonesoup.hypothesiser.distance import DistanceHypothesiser\n",
    "from stonesoup.measures import Mahalanobis\n",
    "from stonesoup.dataassociator.neighbour import GlobalNearestNeighbour\n",
    "from stonesoup.deleter.error import CovarianceBasedDeleter\n",
    "from stonesoup.types.state import GaussianState\n",
    "from stonesoup.initiator.simple import MultiMeasurementInitiator"
   ]
  },
  {
   "cell_type": "code",
   "execution_count": 5,
   "metadata": {},
   "outputs": [
    {
     "data": {
      "text/plain": [
       "'795 * var * {x: int64, y: int64, w: int64, h: int64, area: float64, cX: int64, cY: int64}'"
      ]
     },
     "metadata": {},
     "output_type": "display_data"
    }
   ],
   "source": [
    "import awkward as ak\n",
    "\n",
    "data = ak.from_parquet(\"detections.parquet\")\n",
    "display(data.typestr)"
   ]
  },
  {
   "cell_type": "code",
   "execution_count": null,
   "metadata": {},
   "outputs": [],
   "source": [
    "# kalman\n",
    "transition_model = CombinedLinearGaussianTransitionModel(\n",
    "    [ConstantVelocity(0.05), ConstantVelocity(0.05)])\n",
    "measurement_model = LinearGaussian(ndim_state=4,\n",
    "                                   mapping=(0, 2),\n",
    "                                   noise_covar=np.diag([0.75, 0.75]))\n",
    "predictor = KalmanPredictor(transition_model)\n",
    "updater = KalmanUpdater(measurement_model)\n",
    "\n",
    "hypothesiser = DistanceHypothesiser(predictor,\n",
    "                                    updater,\n",
    "                                    measure=Mahalanobis(),\n",
    "                                    missed_distance=3)\n",
    "data_associator = GlobalNearestNeighbour(hypothesiser)\n",
    "\n",
    "deleter = CovarianceBasedDeleter(covar_trace_thresh=4)\n",
    "initiator = MultiMeasurementInitiator(\n",
    "    prior_state=GaussianState([[0], [0], [0], [0]], np.diag([0, 1, 0, 1])),\n",
    "    measurement_model=measurement_model,\n",
    "    deleter=deleter,\n",
    "    data_associator=data_associator,\n",
    "    updater=updater,\n",
    "    min_points=2,\n",
    ")"
   ]
  },
  {
   "cell_type": "code",
   "execution_count": 27,
   "metadata": {},
   "outputs": [],
   "source": [
    "detections_coords = data[:, :, [\"cX\", \"cY\"]]\n",
    "# use unzip to separate the x and y coordinates\n",
    "# display(detections_coords)"
   ]
  },
  {
   "cell_type": "code",
   "execution_count": 30,
   "metadata": {},
   "outputs": [],
   "source": [
    "# https://github.com/rlabbe/filterpy\n",
    "import jax.numpy as jnp\n",
    "from jax import random, vmap, jit, grad, value_and_grad\n",
    "import numpy as np\n",
    "import jax\n",
    "import chex\n",
    "from jaxtyping import Array, Shaped, Num, Int, Float, Bool"
   ]
  },
  {
   "cell_type": "code",
   "execution_count": 32,
   "metadata": {},
   "outputs": [],
   "source": [
    "@chex.dataclass\n",
    "class Initiator:\n",
    "    # tentative tracks are temporary tracks maintained by the initiator that\n",
    "    # have been initialized but not yet confirmed\n",
    "    tentative_tracks: Num[Array, \"... 2\"]\n"
   ]
  },
  {
   "cell_type": "code",
   "execution_count": 49,
   "metadata": {},
   "outputs": [
    {
     "data": {
      "text/plain": [
       "array([[0.],\n",
       "       [0.],\n",
       "       [0.],\n",
       "       [0.]])"
      ]
     },
     "execution_count": 49,
     "metadata": {},
     "output_type": "execute_result"
    }
   ],
   "source": [
    "import filterpy\n",
    "from filterpy.kalman import KalmanFilter\n",
    "\n",
    "# input [x y]\n",
    "# state [x y dx/dt dy/dt]\n",
    "\n",
    "\n",
    "# yapf: disable\n",
    "def F_cv(dt: float|int):\n",
    "    return np.array([[1, 0, dt, 0],\n",
    "                     [0, 1, 0, dt],\n",
    "                     [0, 0, 1, 0],\n",
    "                     [0, 0, 0, 1]])\n",
    "# yapf: enable\n",
    "\n",
    "\n",
    "def H_cv():\n",
    "    return np.array([[1, 0, 0, 0], [0, 1, 0, 0]])\n",
    "\n",
    "\n",
    "kf = KalmanFilter(4, 2)\n",
    "T = 1.0\n",
    "kf.F = F_cv(T)\n",
    "kf.H = H_cv()\n",
    "kf.R = np.diag([0.75, 0.75])\n",
    "kf.Q = np.diag([0.05, 0.05, 0.05, 0.05])\n",
    "# a simple constant velocity model\n",
    "# let's have a hypothesis of the initial velocity\n",
    "# is 0.05 unit/dt in both x and y directions\n",
    "kf.x = np.array([0, 0, 0.05, 0.05])\n",
    "kf.predict()\n",
    "# x now becomes x prior\n",
    "\n",
    "# kf.update([0.15, 0.15])\n",
    "# x_posterior \n",
    "# when x is updated, it becomes x_posterior"
   ]
  },
  {
   "cell_type": "code",
   "execution_count": 48,
   "metadata": {},
   "outputs": [
    {
     "data": {
      "text/plain": [
       "array([0.1, 0.1])"
      ]
     },
     "metadata": {},
     "output_type": "display_data"
    },
    {
     "data": {
      "text/plain": [
       "0.032659863237109024"
      ]
     },
     "metadata": {},
     "output_type": "display_data"
    }
   ],
   "source": [
    "# from predict state to measurement\n",
    "kf.x_prior # predicted state\n",
    "# predicted measurement\n",
    "# https://peps.python.org/pep-0465/\n",
    "predicted_measurement = kf.H @ kf.x\n",
    "display(predicted_measurement)\n",
    "# compare the predicted measurement with the actual measurement\n",
    "# with mahalanobis distance\n",
    "actual_measurement = np.array([0.12, 0.12])\n",
    "# or just euclidean distance\n",
    "mahalanobis_distance = np.sqrt((actual_measurement - predicted_measurement) @ np.linalg.inv(kf.R) @ (actual_measurement - predicted_measurement))\n",
    "display(mahalanobis_distance)\n",
    "# use mahalanobis distance as a loss function to determine the best match\n",
    "# Hungarian algorithm\n",
    "from scipy.optimize import linear_sum_assignment\n",
    "# https://docs.scipy.org/doc/scipy/reference/generated/scipy.optimize.linear_sum_assignment.html\n",
    "# when we get a successively detected object, we can move it into the confirmed tracks\n",
    "# and remove it from the tentative tracks\n",
    "# Well, it's more like two GNNs, one for the tentative tracks and one for the confirmed tracks\n",
    "# cascaded GNN, interesting..."
   ]
  }
 ],
 "metadata": {
  "kernelspec": {
   "display_name": "Python 3",
   "language": "python",
   "name": "python3"
  },
  "language_info": {
   "codemirror_mode": {
    "name": "ipython",
    "version": 3
   },
   "file_extension": ".py",
   "mimetype": "text/x-python",
   "name": "python",
   "nbconvert_exporter": "python",
   "pygments_lexer": "ipython3",
   "version": "3.12.2"
  }
 },
 "nbformat": 4,
 "nbformat_minor": 2
}
