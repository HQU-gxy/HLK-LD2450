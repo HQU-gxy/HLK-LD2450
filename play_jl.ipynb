{
 "cells": [
  {
   "cell_type": "code",
   "execution_count": null,
   "metadata": {},
   "outputs": [],
   "source": [
    "# Pkg.add(\"JSON3\")\n",
    "# Pkg.add(\"DataFrames\")\n",
    "# Pkg.add(\"JSONTables\")"
   ]
  },
  {
   "cell_type": "code",
   "execution_count": null,
   "metadata": {},
   "outputs": [],
   "source": [
    "TargetPair = Tuple{Int, Int, Int} # x, y, speed"
   ]
  },
  {
   "cell_type": "code",
   "execution_count": null,
   "metadata": {},
   "outputs": [],
   "source": [
    "import JSON3\n",
    "using Pipe: @pipe\n",
    "FILES_R = [\n",
    "    \"open_close_auto_radar_20240510_173207_88ms.jsonl\",\n",
    "    \"open_close_auto_radar_20240510_173300_88ms.jsonl\",\n",
    "    \"open_close_auto_radar_20240510_173518_88ms.jsonl\",\n",
    "    \"move_vertical_short_20240510_112316_88ms.jsonl\",\n",
    "    \"radar_20240510_113056_88ms.jsonl\",\n",
    "]\n",
    "FILES = [\n",
    "    \"data/$(f)\" for f in FILES_R\n",
    "]\n",
    "FILE_NAME = FILES[5]\n",
    "global_targets::Vector{Array{TargetPair}} = []\n",
    "# JSON3.readjsonlines\n",
    "# https://stackoverflow.com/questions/67348301/julia-iterator-which-parses-each-line-in-file\n",
    "\n",
    "open(FILE_NAME, \"r\") do f\n",
    "    for m in Iterators.map(JSON3.read, eachline(f))\n",
    "        targets = m[\"targets\"]\n",
    "        if targets == nothing || targets == []\n",
    "            push!(global_targets, [])\n",
    "            continue\n",
    "        end\n",
    "        function get_target(t)\n",
    "            x = t[\"coord\"][1]\n",
    "            y = t[\"coord\"][2]\n",
    "            speed = t[\"speed\"]\n",
    "            return (x, y, speed)\n",
    "        end\n",
    "        ts = Iterators.map(get_target, targets)\n",
    "        push!(global_targets, collect(ts))\n",
    "    end\n",
    "end"
   ]
  },
  {
   "cell_type": "code",
   "execution_count": null,
   "metadata": {},
   "outputs": [],
   "source": [
    "NullableTargetPair = Union{Nothing,TargetPair}\n",
    "function get_column(\n",
    "    targets::AbstractArray{Array{TargetPair}},\n",
    "    col::Int,\n",
    ")::Vector{NullableTargetPair}\n",
    "    return map(t -> length(t) < col ? nothing : t[col], targets)\n",
    "end\n",
    "\n",
    "fst_col = get_column(global_targets, 1)\n",
    "snd_col = get_column(global_targets, 2)\n",
    "thd_col = get_column(global_targets, 3)\n",
    "\n",
    "non_nothing_length = xs -> filter(x -> x != nothing, xs) |> collect |> length\n",
    "\n",
    "println(\"total_length=$(length(global_targets))\")\n",
    "println(\"fst non_empty_length=$(non_nothing_length(fst_col))\")\n",
    "println(\"snd non_empty_length=$(non_nothing_length(snd_col))\")\n",
    "println(\"thd non_empty_length=$(non_nothing_length(thd_col))\")"
   ]
  },
  {
   "cell_type": "code",
   "execution_count": null,
   "metadata": {},
   "outputs": [],
   "source": [
    "function segment_continous(xs::Vector{NullableTargetPair})::Vector{Vector{TargetPair}}\n",
    "    segments = []\n",
    "    current_segment = []\n",
    "    for x in xs\n",
    "        if x == nothing\n",
    "            if length(current_segment) > 0\n",
    "                push!(segments, current_segment)\n",
    "                current_segment = []\n",
    "            end\n",
    "        else\n",
    "            push!(current_segment, x)\n",
    "        end\n",
    "    end\n",
    "\n",
    "    # end piece check\n",
    "    if length(current_segment) > 0\n",
    "        push!(segments, current_segment)\n",
    "    end\n",
    "    return segments\n",
    "end\n",
    "\n",
    "fst_segments = segment_continous(fst_col)\n",
    "each_length = map(length, fst_segments)\n",
    "println(\"each_length=$(each_length)\")"
   ]
  },
  {
   "cell_type": "code",
   "execution_count": null,
   "metadata": {},
   "outputs": [],
   "source": [
    "# let's plot the first segment, but only x and y\n",
    "using Plots\n",
    "get_coord = t -> (t[1], t[2])\n",
    "get_speed = t -> t[3]\n",
    "\n",
    "seg = fst_segments[1]\n",
    "plot(seg |> xs -> map(get_coord, xs), seriestype = :scatter, label = \"coord\", aspect_ratio = 1)"
   ]
  },
  {
   "cell_type": "code",
   "execution_count": null,
   "metadata": {},
   "outputs": [],
   "source": [
    "plot(seg |> xs -> map(get_speed, xs), seriestype = :line, label = \"speed\")"
   ]
  }
 ],
 "metadata": {
  "kernelspec": {
   "display_name": "Julia 1.10.3",
   "language": "julia",
   "name": "julia-1.10"
  },
  "language_info": {
   "file_extension": ".jl",
   "mimetype": "application/julia",
   "name": "julia",
   "version": "1.10.3"
  }
 },
 "nbformat": 4,
 "nbformat_minor": 2
}
