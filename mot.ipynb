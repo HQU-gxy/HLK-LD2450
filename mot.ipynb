{
 "cells": [
  {
   "cell_type": "code",
   "execution_count": 3,
   "metadata": {},
   "outputs": [],
   "source": [
    "import matplotlib.pyplot as plt\n",
    "import seaborn as sns\n",
    "import polars as pl\n",
    "import numpy as np\n",
    "from numpy.typing import NDArray\n",
    "from typing import Sequence, Any, Tuple, Union, List, Dict, Optional, TypeVar, Callable, Iterable, cast\n",
    "from datetime import datetime, timedelta"
   ]
  },
  {
   "cell_type": "code",
   "execution_count": 4,
   "metadata": {},
   "outputs": [],
   "source": [
    "from stonesoup.models.transition.linear import CombinedLinearGaussianTransitionModel, \\\n",
    "                                               ConstantVelocity\n",
    "from stonesoup.types.groundtruth import GroundTruthPath, GroundTruthState\n",
    "from stonesoup.types.detection import TrueDetection\n",
    "from stonesoup.types.detection import Clutter\n",
    "from stonesoup.models.measurement.linear import LinearGaussian\n",
    "from stonesoup.types.detection import Detection\n",
    "from stonesoup.plotter import AnimatedPlotterly\n",
    "from stonesoup.predictor.kalman import KalmanPredictor\n",
    "from stonesoup.updater.kalman import KalmanUpdater\n",
    "from stonesoup.hypothesiser.distance import DistanceHypothesiser\n",
    "from stonesoup.measures import Mahalanobis\n",
    "from stonesoup.dataassociator.neighbour import GlobalNearestNeighbour, GNNWith2DAssignment\n",
    "from stonesoup.dataassociator.probability import PDAHypothesiser, JPDA\n",
    "from stonesoup.deleter.error import CovarianceBasedDeleter\n",
    "from stonesoup.types.state import GaussianState\n",
    "from stonesoup.initiator.simple import MultiMeasurementInitiator"
   ]
  },
  {
   "cell_type": "code",
   "execution_count": 5,
   "metadata": {},
   "outputs": [
    {
     "data": {
      "text/plain": [
       "'795 * var * {x: int64, y: int64, w: int64, h: int64, area: float64, cX: int64, cY: int64}'"
      ]
     },
     "metadata": {},
     "output_type": "display_data"
    }
   ],
   "source": [
    "import awkward as ak\n",
    "\n",
    "data = ak.from_parquet(\"detections.parquet\")\n",
    "display(data.typestr)"
   ]
  },
  {
   "cell_type": "code",
   "execution_count": 6,
   "metadata": {},
   "outputs": [],
   "source": [
    "# kalman\n",
    "transition_model = CombinedLinearGaussianTransitionModel(\n",
    "    [ConstantVelocity(0.05), ConstantVelocity(0.05)])\n",
    "measurement_model = LinearGaussian(ndim_state=4,\n",
    "                                   mapping=(0, 2),\n",
    "                                   noise_covar=np.diag([0.75, 0.75]))\n",
    "predictor = KalmanPredictor(transition_model)\n",
    "updater = KalmanUpdater(measurement_model)\n",
    "\n",
    "hypothesiser = DistanceHypothesiser(predictor,\n",
    "                                    updater,\n",
    "                                    measure=Mahalanobis(),\n",
    "                                    missed_distance=3)\n",
    "data_associator = GlobalNearestNeighbour(hypothesiser)\n",
    "\n",
    "deleter = CovarianceBasedDeleter(covar_trace_thresh=4)\n",
    "initiator = MultiMeasurementInitiator(\n",
    "    prior_state=GaussianState([[0], [0], [0], [0]], np.diag([0, 1, 0, 1])),\n",
    "    measurement_model=measurement_model,\n",
    "    deleter=deleter,\n",
    "    data_associator=data_associator,\n",
    "    updater=updater,\n",
    "    min_points=2,\n",
    ")"
   ]
  },
  {
   "cell_type": "code",
   "execution_count": 7,
   "metadata": {},
   "outputs": [],
   "source": [
    "detections_coords = data[:, :, [\"cX\", \"cY\"]]\n",
    "# use unzip to separate the x and y coordinates\n",
    "# display(detections_coords)"
   ]
  },
  {
   "cell_type": "code",
   "execution_count": 8,
   "metadata": {},
   "outputs": [],
   "source": [
    "# https://github.com/rlabbe/filterpy\n",
    "import jax.numpy as jnp\n",
    "from jax import random, vmap, jit, grad, value_and_grad\n",
    "import numpy as np\n",
    "import jax\n",
    "import chex\n",
    "from jaxtyping import Array, Shaped, Num, Int, Float, Bool"
   ]
  },
  {
   "cell_type": "code",
   "execution_count": 9,
   "metadata": {},
   "outputs": [],
   "source": [
    "@chex.dataclass\n",
    "class Initiator:\n",
    "    # tentative tracks are temporary tracks maintained by the initiator that\n",
    "    # have been initialized but not yet confirmed\n",
    "    tentative_tracks: Num[Array, \"... 2\"]\n"
   ]
  },
  {
   "cell_type": "code",
   "execution_count": 37,
   "metadata": {},
   "outputs": [
    {
     "data": {
      "text/plain": [
       "array([[1., 0., 0., 0.],\n",
       "       [0., 1., 0., 0.],\n",
       "       [0., 0., 1., 0.],\n",
       "       [0., 0., 0., 1.]])"
      ]
     },
     "metadata": {},
     "output_type": "display_data"
    },
    {
     "data": {
      "text/plain": [
       "array([0.05, 0.05, 0.05, 0.05])"
      ]
     },
     "metadata": {},
     "output_type": "display_data"
    },
    {
     "data": {
      "text/plain": [
       "array([[2.05, 0.  , 1.  , 0.  ],\n",
       "       [0.  , 2.05, 0.  , 1.  ],\n",
       "       [1.  , 0.  , 1.05, 0.  ],\n",
       "       [0.  , 1.  , 0.  , 1.05]])"
      ]
     },
     "metadata": {},
     "output_type": "display_data"
    }
   ],
   "source": [
    "import filterpy\n",
    "from filterpy.kalman import KalmanFilter\n",
    "\n",
    "# input [x y]\n",
    "# state [x y dx/dt dy/dt]\n",
    "\n",
    "\n",
    "# yapf: disable\n",
    "def F_cv(dt: float|int):\n",
    "    return np.array([[1, 0, dt, 0],\n",
    "                     [0, 1, 0, dt],\n",
    "                     [0, 0, 1, 0],\n",
    "                     [0, 0, 0, 1]])\n",
    "# yapf: enable\n",
    "\n",
    "\n",
    "# yapf: disable\n",
    "def H_cv():\n",
    "    return np.array([[1, 0, 0, 0], \n",
    "                     [0, 1, 0, 0]])\n",
    "# yapf: enable\n",
    "\n",
    "\n",
    "kf = KalmanFilter(4, 2)\n",
    "T = 1.0\n",
    "kf.F = F_cv(T)\n",
    "kf.H = H_cv()\n",
    "kf.R = np.diag([0.75, 0.75])\n",
    "kf.Q = np.diag([0.05, 0.05, 0.05, 0.05])\n",
    "# a simple constant velocity model\n",
    "# let's have a hypothesis of the initial velocity\n",
    "# is 0.05 unit/dt in both x and y directions\n",
    "kf.x = np.array([0, 0, 0.05, 0.05])\n",
    "display(kf.P)\n",
    "kf.predict()\n",
    "# x now becomes x prior\n",
    "display(kf.x)\n",
    "display(kf.P)\n",
    "\n",
    "# kf.update([0.15, 0.15])\n",
    "# x_posterior \n",
    "# when x is updated, it becomes x_posterior"
   ]
  },
  {
   "cell_type": "code",
   "execution_count": 31,
   "metadata": {},
   "outputs": [
    {
     "data": {
      "text/plain": [
       "array([0.05, 0.05])"
      ]
     },
     "metadata": {},
     "output_type": "display_data"
    },
    {
     "data": {
      "text/plain": [
       "array([0.10125, 0.10125, 0.075  , 0.075  ])"
      ]
     },
     "metadata": {},
     "output_type": "display_data"
    },
    {
     "data": {
      "text/plain": [
       "array([[0.54910714, 0.        , 0.26785714, 0.        ],\n",
       "       [0.        , 0.54910714, 0.        , 0.26785714],\n",
       "       [0.26785714, 0.        , 0.69285714, 0.        ],\n",
       "       [0.        , 0.26785714, 0.        , 0.69285714]])"
      ]
     },
     "metadata": {},
     "output_type": "display_data"
    },
    {
     "data": {
      "text/plain": [
       "0.059160797830996155"
      ]
     },
     "metadata": {},
     "output_type": "display_data"
    }
   ],
   "source": [
    "# from predict state to measurement\n",
    "kf.x_prior # predicted state\n",
    "# predicted measurement\n",
    "# https://peps.python.org/pep-0465/\n",
    "predicted_measurement = kf.H @ kf.x\n",
    "display(predicted_measurement)\n",
    "# compare the predicted measurement with the actual measurement\n",
    "# with mahalanobis distance\n",
    "actual_measurement = np.array([0.12, 0.12])\n",
    "# or just euclidean distance\n",
    "kf.update(actual_measurement)\n",
    "display(kf.x)\n",
    "display(kf.P)\n",
    "display(kf.mahalanobis)\n",
    "# use mahalanobis distance as a loss function to determine the best match\n",
    "# Hungarian algorithm\n",
    "from scipy.optimize import linear_sum_assignment\n",
    "# https://docs.scipy.org/doc/scipy/reference/generated/scipy.optimize.linear_sum_assignment.html\n",
    "# when we get a successively detected object, we can move it into the confirmed tracks\n",
    "# and remove it from the tentative tracks\n",
    "# Well, it's more like two GNNs, one for the tentative tracks and one for the confirmed tracks\n",
    "# cascaded GNN, interesting..."
   ]
  },
  {
   "cell_type": "code",
   "execution_count": 52,
   "metadata": {},
   "outputs": [],
   "source": [
    "# abstract out the Kalman filter\n",
    "# by motion model (state)\n",
    "# and measurement model\n",
    "\n",
    "# https://github.com/sisl/GaussianFilters.jl\n",
    "# not consider Input/External effect\n",
    "from jaxtyping import jaxtyped\n",
    "from typeguard import typechecked\n",
    "\n",
    "\n",
    "@chex.dataclass\n",
    "class LinearMotionNoInputModel:\n",
    "    F: Num[Array, \"n n\"]\n",
    "    Q: Num[Array, \"n n\"]\n",
    "\n",
    "\n",
    "@chex.dataclass\n",
    "class LinearMeasurementModel:\n",
    "    H: Num[Array, \"m n\"]\n",
    "    R: Num[Array, \"m m\"]\n",
    "\n",
    "\n",
    "Measurement = Num[Array, \"m\"]\n",
    "\n",
    "\n",
    "# a belief of Gaussian\n",
    "@chex.dataclass\n",
    "class GaussianState:\n",
    "    x: Num[Array, \"n\"]\n",
    "    P: Num[Array, \"n n\"]\n",
    "\n",
    "\n",
    "@jaxtyped(typechecker=typechecked)\n",
    "def predict(\n",
    "    state: GaussianState,\n",
    "    motion_model: LinearMotionNoInputModel,\n",
    ") -> GaussianState:\n",
    "    x = state.x\n",
    "    P = state.P\n",
    "    F = motion_model.F\n",
    "    Q = motion_model.Q\n",
    "    assert x.shape[0] == F.shape[\n",
    "        0], \"state and transition model are not compatible\"\n",
    "    assert F.shape[0] == F.shape[1], \"transition model is not square\"\n",
    "    assert F.shape[0] == Q.shape[\n",
    "        0], \"transition model and noise model are not compatible\"\n",
    "    x_priori = F @ x\n",
    "    P_priori = F @ P @ F.T + Q\n",
    "    return GaussianState(x=x_priori, P=P_priori)\n",
    "\n",
    "\n",
    "@chex.dataclass\n",
    "class PosterioriResult:\n",
    "    # updated state\n",
    "    state: GaussianState\n",
    "    innovation: Num[Array, \"m\"]\n",
    "    posteriori_measurement: Num[Array, \"m\"]\n",
    "    mahalanobis_distance: Num[Array, \"m\"]\n",
    "    # post-fit residual\n",
    "    # y = z - H @ x_posteriori\n",
    "\n",
    "\n",
    "@jaxtyped(typechecker=typechecked)\n",
    "def update(\n",
    "    measurement: Measurement,\n",
    "    state: GaussianState,\n",
    "    measure_model: LinearMeasurementModel,\n",
    ") -> PosterioriResult:\n",
    "    x = state.x\n",
    "    P = state.P\n",
    "    H = measure_model.H\n",
    "    R = measure_model.R\n",
    "    assert x.shape[0] == H.shape[\n",
    "        1], \"state and measurement model are not compatible\"\n",
    "    assert H.shape[0] == R.shape[0], \"measurement model is not square\"\n",
    "    assert H.shape[0] == R.shape[1], \"measurement model is not square\"\n",
    "    z = measurement\n",
    "    inv = jnp.linalg.inv\n",
    "    # innovation\n",
    "    # the priori measurement residual\n",
    "    y = z - H @ x\n",
    "    # innovation covariance\n",
    "    S = H @ P @ H.T + R\n",
    "    # Kalman gain\n",
    "    K = P @ H.T @ inv(S)\n",
    "    # posteriori state\n",
    "    x_posteriori = x + K @ y\n",
    "    # dummy identity matrix\n",
    "    I = jnp.eye(P.shape[0])\n",
    "    # posteriori covariance\n",
    "    I_KH = I - K @ H\n",
    "    P_posteriori = I_KH @ P @ I_KH.T + K @ R @ K.T\n",
    "    posteriori_state = GaussianState(x=x_posteriori, P=P_posteriori)\n",
    "    posteriori_measurement = H @ x_posteriori\n",
    "    return PosterioriResult(\n",
    "        state=posteriori_state,\n",
    "        innovation=y,\n",
    "        posteriori_measurement=posteriori_measurement,\n",
    "        mahalanobis_distance=jnp.sqrt(y.T @ inv(S) @ y),\n",
    "    )\n"
   ]
  },
  {
   "cell_type": "code",
   "execution_count": 54,
   "metadata": {},
   "outputs": [],
   "source": [
    "def cv_model(\n",
    "    v_x: float,\n",
    "    v_y: float,\n",
    "    dt: float,\n",
    "    q: float,\n",
    "    r: float,\n",
    ") -> Tuple[\n",
    "        LinearMotionNoInputModel,\n",
    "        LinearMeasurementModel,\n",
    "        GaussianState,\n",
    "]:\n",
    "    \"\"\"\n",
    "    Create a constant velocity model with no input\n",
    "    \n",
    "    Args:\n",
    "    v_x: initial velocity in x direction\n",
    "    v_y: initial velocity in y direction\n",
    "    dt: time interval\n",
    "    q: process noise\n",
    "    r: measurement noise\n",
    "\n",
    "    Returns:\n",
    "    motion_model: motion model\n",
    "    measure_model: measurement model\n",
    "    state: initial state\n",
    "    \"\"\"\n",
    "    # yapf: disable\n",
    "    F = jnp.array([[1, 0, dt, 0],\n",
    "                        [0, 1, 0, dt],\n",
    "                        [0, 0, 1, 0],\n",
    "                        [0, 0, 0, 1]])\n",
    "    H = jnp.array([[1, 0, 0, 0],\n",
    "                        [0, 1, 0, 0]])\n",
    "    # yapf: enable\n",
    "    Q = q * jnp.eye(4)\n",
    "    R = r * jnp.eye(2)\n",
    "    P = jnp.eye(4)\n",
    "    motion_model = LinearMotionNoInputModel(F=F, Q=Q)\n",
    "    measure_model = LinearMeasurementModel(H=H, R=R)\n",
    "    state = GaussianState(x=jnp.array([0, 0, v_x, v_y]), P=P)\n",
    "    return motion_model, measure_model, state"
   ]
  },
  {
   "cell_type": "code",
   "execution_count": 36,
   "metadata": {},
   "outputs": [
    {
     "data": {
      "text/plain": [
       "GaussianState(x=Array([0.05, 0.05, 0.05, 0.05], dtype=float32), P=Array([[2.05, 0.  , 1.  , 0.  ],\n",
       "       [0.  , 2.05, 0.  , 1.  ],\n",
       "       [1.  , 0.  , 1.05, 0.  ],\n",
       "       [0.  , 1.  , 0.  , 1.05]], dtype=float32))"
      ]
     },
     "metadata": {},
     "output_type": "display_data"
    },
    {
     "data": {
      "text/plain": [
       "PosterioriResult(state=GaussianState(x=Array([0.10124999, 0.10124999, 0.075     , 0.075     ], dtype=float32), P=Array([[0.54910713, 0.        , 0.26785713, 0.        ],\n",
       "       [0.        , 0.54910713, 0.        , 0.26785713],\n",
       "       [0.26785713, 0.        , 0.6928571 , 0.        ],\n",
       "       [0.        , 0.26785713, 0.        , 0.6928571 ]], dtype=float32)), innovation=Array([0.06999999, 0.06999999], dtype=float32), posteriori_measurement=Array([0.10124999, 0.10124999], dtype=float32), mahalanobis_distance=Array(0.05916079, dtype=float32))"
      ]
     },
     "metadata": {},
     "output_type": "display_data"
    }
   ],
   "source": [
    "mo_model, me_model, st = cv_model(0.05, 0.05, 1.0, 0.05, 0.75)\n",
    "\n",
    "# predict\n",
    "new_st = predict(st, mo_model)\n",
    "# update\n",
    "res = update(jnp.array([0.12, 0.12]), new_st, me_model)\n",
    "display(new_st)\n",
    "display(res)"
   ]
  },
  {
   "cell_type": "code",
   "execution_count": 59,
   "metadata": {},
   "outputs": [
    {
     "data": {
      "text/plain": [
       "{'x': Array([0.  , 0.  , 0.05, 0.05], dtype=float32),\n",
       " 'P': Array([[1., 0., 0., 0.],\n",
       "        [0., 1., 0., 0.],\n",
       "        [0., 0., 1., 0.],\n",
       "        [0., 0., 0., 1.]], dtype=float32)}"
      ]
     },
     "execution_count": 59,
     "metadata": {},
     "output_type": "execute_result"
    }
   ],
   "source": [
    "st.__dict__"
   ]
  },
  {
   "cell_type": "code",
   "execution_count": 61,
   "metadata": {},
   "outputs": [
    {
     "data": {
      "text/html": [
       "<pre>[{x: [0, 0, 0.05, 0.05], P: [[1, 0, ..., 0], ...]},\n",
       " {x: [0.05, 0.05, 0.05, 0.05], P: [[2.05, ...], ...]}]\n",
       "------------------------------------------------------\n",
       "type: 2 * {\n",
       "    x: var * float64,\n",
       "    P: var * var * float64\n",
       "}</pre>"
      ],
      "text/plain": [
       "<Array [{x: [0, ...], P: [...]}, {...}] type='2 * {x: var * float64, P: var...'>"
      ]
     },
     "metadata": {},
     "output_type": "display_data"
    }
   ],
   "source": [
    "# def to_ak_record(dict_like: Dict[str, Any] | Any) -> ak.Record:\n",
    "#     return ak.Record(dict_like.__dict__)\n",
    "s = ak.Array([st.__dict__, new_st.__dict__])\n",
    "display(s)"
   ]
  },
  {
   "cell_type": "code",
   "execution_count": 66,
   "metadata": {},
   "outputs": [
    {
     "data": {
      "text/plain": [
       "'2 * {x: var * float64, P: var * var * float64}'"
      ]
     },
     "metadata": {},
     "output_type": "display_data"
    }
   ],
   "source": [
    "# display(s.layout)\n",
    "# v = ak.Array([])\n",
    "# v.layout = s.layout\n",
    "# display(v.typestr)"
   ]
  },
  {
   "cell_type": "code",
   "execution_count": 73,
   "metadata": {},
   "outputs": [],
   "source": [
    "from dataclasses import dataclass\n",
    "\n",
    "AKArray = ak.Array\n",
    "\n",
    "# register the JAX backend\n",
    "ak.jax.register_and_check()  # type: ignore\n",
    "\n",
    "# https://awkward-array.org/doc/main/user-guide/how-to-create-records.html\n",
    "class Track(ak.Record):\n",
    "    x: Num[Array, \"4\"]\n",
    "    P: Num[Array, \"4 4\"]\n",
    "    survived_time_steps: int\n",
    "    missed_time_steps: int\n",
    "\n",
    "\n",
    "class Tracker:\n",
    "    # [n {x: Num[Array, \"4\"], P: Num[Array, \"4 4\"], survived_time_steps:int, missed_time_steps:int}]\n",
    "    _tentative_tracks: AKArray = ak.Array([],\n",
    "                                          with_name=\"tentative_tracks\",\n",
    "                                          backend=\"jax\")\n",
    "    # [m {x: Num[Array, \"4\"], P: Num[Array, \"4 4\"]}]\n",
    "    _confirmed_tracks: AKArray = ak.Array([],\n",
    "                                          with_name=\"confirmed_tracks\",\n",
    "                                          backend=\"jax\")\n",
    "\n",
    "    def next_measurements(self, measurements: Float[Array, \"... 2\"]):\n",
    "        ...\n",
    "\n",
    "    @property\n",
    "    def tentative_tracks(self) -> AKArray:\n",
    "        return self._tentative_tracks\n",
    "\n",
    "    @property\n",
    "    def confirmed_tracks(self) -> AKArray:\n",
    "        return self._confirmed_tracks\n",
    "\n",
    "    @staticmethod\n",
    "    def motion_model(dt: float = 1,\n",
    "                     q: float = 0.05) -> LinearMotionNoInputModel:\n",
    "        # yapf: disable\n",
    "        F = jnp.array([[1, 0, dt, 0],\n",
    "                            [0, 1, 0, dt],\n",
    "                            [0, 0, 1, 0],\n",
    "                            [0, 0, 0, 1]])\n",
    "        # yapf: enable\n",
    "        Q = q * jnp.eye(4)\n",
    "        return LinearMotionNoInputModel(F=F, Q=Q)\n",
    "\n",
    "    @staticmethod\n",
    "    def measurement_model(r: float = 0.75) -> LinearMeasurementModel:\n",
    "        # yapf: disable\n",
    "        H = jnp.array([[1, 0, 0, 0],\n",
    "                            [0, 1, 0, 0]])\n",
    "        # yapf: enable\n",
    "        R = r * jnp.eye(2)\n",
    "        return LinearMeasurementModel(H=H, R=R)\n",
    "\n",
    "\n",
    "tracker = Tracker()\n"
   ]
  }
 ],
 "metadata": {
  "kernelspec": {
   "display_name": "Python 3",
   "language": "python",
   "name": "python3"
  },
  "language_info": {
   "codemirror_mode": {
    "name": "ipython",
    "version": 3
   },
   "file_extension": ".py",
   "mimetype": "text/x-python",
   "name": "python",
   "nbconvert_exporter": "python",
   "pygments_lexer": "ipython3",
   "version": "3.12.1"
  }
 },
 "nbformat": 4,
 "nbformat_minor": 2
}
